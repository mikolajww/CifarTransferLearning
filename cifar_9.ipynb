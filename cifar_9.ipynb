{
 "cells": [
  {
   "cell_type": "code",
   "execution_count": 9,
   "metadata": {},
   "outputs": [],
   "source": [
    "import numpy as np\n",
    "import tensorflow as tf\n",
    "from tensorflow import keras\n",
    "import tensorflow_addons as tfa\n",
    "from keras.layers import Conv2D, MaxPooling2D, Dropout, Flatten, Dense\n",
    "import tensorflow_datasets as tfds\n",
    "import os\n",
    "os.environ['TF_FORCE_GPU_ALLOW_GROWTH'] = 'true'"
   ]
  },
  {
   "cell_type": "code",
   "execution_count": 10,
   "metadata": {},
   "outputs": [
    {
     "data": {
      "text/plain": [
       "<MapDataset shapes: ((None, 32, 32, 3), (None,)), types: (tf.float32, tf.int64)>"
      ]
     },
     "execution_count": 10,
     "metadata": {},
     "output_type": "execute_result"
    }
   ],
   "source": [
    "def _normalize_img(img, label):\n",
    "    img = tf.cast(img, tf.float32) / 255.\n",
    "    return (img, label)\n",
    "\n",
    "train_dataset, test_dataset = tfds.load(name=\"cifar10\", split=['train', 'test'], as_supervised=True)\n",
    "\n",
    "# Build your input pipelines\n",
    "train_dataset = train_dataset.shuffle(1024).batch(32)\n",
    "train_dataset = train_dataset.map(_normalize_img)\n",
    "\n",
    "test_dataset = test_dataset.batch(32)\n",
    "test_dataset = test_dataset.map(_normalize_img)\n",
    "\n",
    "train_dataset"
   ]
  },
  {
   "cell_type": "code",
   "execution_count": 11,
   "metadata": {},
   "outputs": [
    {
     "name": "stdout",
     "output_type": "stream",
     "text": [
      "Model: \"sequential_1\"\n",
      "_________________________________________________________________\n",
      "Layer (type)                 Output Shape              Param #   \n",
      "=================================================================\n",
      "conv2d_5 (Conv2D)            (None, 32, 32, 32)        896       \n",
      "_________________________________________________________________\n",
      "max_pooling2d (MaxPooling2D) (None, 16, 16, 32)        0         \n",
      "_________________________________________________________________\n",
      "conv2d_6 (Conv2D)            (None, 16, 16, 64)        18496     \n",
      "_________________________________________________________________\n",
      "max_pooling2d_1 (MaxPooling2 (None, 8, 8, 64)          0         \n",
      "_________________________________________________________________\n",
      "conv2d_7 (Conv2D)            (None, 8, 8, 64)          36928     \n",
      "_________________________________________________________________\n",
      "conv2d_8 (Conv2D)            (None, 8, 8, 64)          36928     \n",
      "_________________________________________________________________\n",
      "conv2d_9 (Conv2D)            (None, 8, 8, 64)          36928     \n",
      "_________________________________________________________________\n",
      "flatten_1 (Flatten)          (None, 4096)              0         \n",
      "=================================================================\n",
      "Total params: 130,176\n",
      "Trainable params: 130,176\n",
      "Non-trainable params: 0\n",
      "_________________________________________________________________\n"
     ]
    }
   ],
   "source": [
    "model = tf.keras.Sequential([\n",
    "    Conv2D(filters=32, kernel_size=(3,3), padding='same', activation='relu', input_shape=(32,32,3)),\n",
    "    MaxPooling2D(pool_size = 2),\n",
    "    Conv2D(filters=64, kernel_size=(3,3), padding='same', activation='relu'),\n",
    "    MaxPooling2D(pool_size = 2),\n",
    "    Conv2D(filters=64, kernel_size=(3,3), padding='same', activation='relu'),\n",
    "    Conv2D(filters=64, kernel_size=(3,3), padding='same', activation='relu'),\n",
    "    Conv2D(filters=64, kernel_size=(3,3), padding='same', activation='relu'),\n",
    "    #Dropout(0.3),\n",
    "    Flatten()\n",
    "    #Dense(64, activation=None)\n",
    "])\n",
    "model.summary()"
   ]
  },
  {
   "cell_type": "code",
   "execution_count": 12,
   "metadata": {},
   "outputs": [
    {
     "name": "stdout",
     "output_type": "stream",
     "text": [
      "Epoch 1/20\n",
      "1563/1563 [==============================] - 6s 4ms/step - loss: 0.3355\n",
      "Epoch 2/20\n",
      "1563/1563 [==============================] - 6s 4ms/step - loss: 0.2419\n",
      "Epoch 3/20\n",
      "1563/1563 [==============================] - 6s 4ms/step - loss: 0.1875\n",
      "Epoch 4/20\n",
      "1563/1563 [==============================] - 6s 4ms/step - loss: 0.1649\n",
      "Epoch 5/20\n",
      "1563/1563 [==============================] - 6s 4ms/step - loss: 0.1577\n",
      "Epoch 6/20\n",
      "1563/1563 [==============================] - 6s 4ms/step - loss: 0.1330\n",
      "Epoch 7/20\n",
      "1563/1563 [==============================] - 6s 4ms/step - loss: 0.1254\n",
      "Epoch 8/20\n",
      "1563/1563 [==============================] - 6s 4ms/step - loss: 0.1120\n",
      "Epoch 9/20\n",
      "1563/1563 [==============================] - 6s 4ms/step - loss: 0.1050\n",
      "Epoch 10/20\n",
      "1563/1563 [==============================] - 6s 4ms/step - loss: 0.1139\n",
      "Epoch 11/20\n",
      "1563/1563 [==============================] - 6s 4ms/step - loss: 0.1016\n",
      "Epoch 12/20\n",
      "1563/1563 [==============================] - 6s 4ms/step - loss: 0.0985\n",
      "Epoch 13/20\n",
      "1563/1563 [==============================] - 6s 4ms/step - loss: 0.0884\n",
      "Epoch 14/20\n",
      "1563/1563 [==============================] - 6s 4ms/step - loss: 0.0849\n",
      "Epoch 15/20\n",
      "1563/1563 [==============================] - 6s 4ms/step - loss: 0.0836\n",
      "Epoch 16/20\n",
      "1563/1563 [==============================] - 6s 4ms/step - loss: 0.0840\n",
      "Epoch 17/20\n",
      "1563/1563 [==============================] - 6s 4ms/step - loss: 0.0806\n",
      "Epoch 18/20\n",
      "1563/1563 [==============================] - 6s 4ms/step - loss: 0.0756\n",
      "Epoch 19/20\n",
      "1563/1563 [==============================] - 6s 4ms/step - loss: 0.0785\n",
      "Epoch 20/20\n",
      "1563/1563 [==============================] - 6s 4ms/step - loss: 0.0785\n"
     ]
    }
   ],
   "source": [
    "model.compile(\n",
    "    optimizer=tf.keras.optimizers.Adam(0.001),\n",
    "    loss=tfa.losses.TripletSemiHardLoss()\n",
    ")\n",
    "\n",
    "\n",
    "history = model.fit(\n",
    "    train_dataset,\n",
    "    epochs=20\n",
    "\n",
    ")\n",
    "\n",
    "\n"
   ]
  },
  {
   "cell_type": "code",
   "execution_count": 5,
   "metadata": {},
   "outputs": [],
   "source": [
    "model.save(\"ex9_cifar10_triplet_loss.h5\")"
   ]
  },
  {
   "cell_type": "code",
   "execution_count": 6,
   "metadata": {},
   "outputs": [
    {
     "data": {
      "text/plain": [
       "<matplotlib.legend.Legend at 0x2bb3d800d00>"
      ]
     },
     "execution_count": 6,
     "metadata": {},
     "output_type": "execute_result"
    },
    {
     "data": {
      "image/png": "[encoded data removed]",
      "text/plain": [
       "<Figure size 432x288 with 1 Axes>"
      ]
     },
     "metadata": {
      "needs_background": "light"
     },
     "output_type": "display_data"
    }
   ],
   "source": [
    "import matplotlib.pyplot as plt\n",
    "plt.plot(history.history['loss'], label='loss')\n",
    "plt.legend(loc='lower right')"
   ]
  },
  {
   "cell_type": "code",
   "execution_count": null,
   "metadata": {},
   "outputs": [],
   "source": []
  }
 ],
 "metadata": {
  "kernelspec": {
   "display_name": "Python 3",
   "language": "python",
   "name": "python3"
  },
  "language_info": {
   "codemirror_mode": {
    "name": "ipython",
    "version": 3
   },
   "file_extension": ".py",
   "mimetype": "text/x-python",
   "name": "python",
   "nbconvert_exporter": "python",
   "pygments_lexer": "ipython3",
   "version": "3.8.1"
  }
 },
 "nbformat": 4,
 "nbformat_minor": 4
}
